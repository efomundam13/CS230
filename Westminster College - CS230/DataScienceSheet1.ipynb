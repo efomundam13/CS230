{
 "cells": [
  {
   "cell_type": "code",
   "execution_count": 7,
   "id": "3a0868dc",
   "metadata": {},
   "outputs": [
    {
     "name": "stdout",
     "output_type": "stream",
     "text": [
      "Hello World!\n"
     ]
    }
   ],
   "source": [
    "#This is a warm-up sheet that gives basic Python Info\n",
    "print(\"Hello World!\")\n"
   ]
  },
  {
   "cell_type": "code",
   "execution_count": 18,
   "id": "4f0322f8",
   "metadata": {},
   "outputs": [
    {
     "name": "stdout",
     "output_type": "stream",
     "text": [
      "5\n",
      "myVar is equal to 5\n",
      "After change, myVar is True\n"
     ]
    }
   ],
   "source": [
    "#You probably want to move to another box for each new idea/task\n",
    "myVar = 5\n",
    "print(myVar)\n",
    "print(\"myVar is equal to\", myVar)\n",
    "\n",
    "#You can change variables, but be careful, they are lost forever\n",
    "myVar = True\n",
    "print(\"After change, myVar is\", myVar)"
   ]
  },
  {
   "cell_type": "code",
   "execution_count": 21,
   "id": "d85f340b",
   "metadata": {},
   "outputs": [
    {
     "name": "stdout",
     "output_type": "stream",
     "text": [
      "7\n",
      "10\n",
      "After adding 3, myVar is: 10\n"
     ]
    }
   ],
   "source": [
    "#You chan change variables from old blocks into new blocks\n",
    "myVar = 7\n",
    "print(myVar)\n",
    "\n",
    "myVar = myVar + 3\n",
    "print(myVar)\n",
    "print(\"After adding 3, myVar is:\", myVar)"
   ]
  },
  {
   "cell_type": "code",
   "execution_count": 14,
   "id": "6eb21071",
   "metadata": {},
   "outputs": [
    {
     "name": "stdout",
     "output_type": "stream",
     "text": [
      "['a', 'b', 'c', 4, 10]\n",
      "[27, 'b', 'c', 4, 10]\n"
     ]
    },
    {
     "data": {
      "text/plain": [
       "27"
      ]
     },
     "execution_count": 14,
     "metadata": {},
     "output_type": "execute_result"
    }
   ],
   "source": [
    "#If you need to collect a bunch of data, we can use Lists\n",
    "\n",
    "myList = ['a', 'b', 'c', 4, 10]\n",
    "print(myList)\n",
    "\n",
    "#You can oull out any individual element from a list!\n",
    "myList[0] #Python is 0-indexed\n",
    "\n",
    "#You can change a single element in a list using =\n",
    "myList[0] = 27\n",
    "print(myList)\n",
    "\n",
    "myList[0]"
   ]
  },
  {
   "cell_type": "code",
   "execution_count": 15,
   "id": "aee0461a",
   "metadata": {},
   "outputs": [
    {
     "name": "stdout",
     "output_type": "stream",
     "text": [
      "Keep good habits: [27, 'b', 'c', 4, 10, 'New']\n",
      "With c removed: [27, 'b', 4, 10, 'New']\n",
      "After removing myList[2]: [27, 'b', 10, 'New']\n"
     ]
    }
   ],
   "source": [
    "#On certain data types, like lists\n",
    "#You can modify them or get information by using\n",
    "#prebuilt functions!\n",
    "\n",
    "myList.append('New') #Append adds element to the end of a list\n",
    "print(\"Keep good habits:\", myList)\n",
    "\n",
    "myList.remove('c') #Finds element 'c' and removes it\n",
    "print(\"With c removed:\", myList)\n",
    "\n",
    "myList.pop(2) #Will remove the element in index 2\n",
    "print(\"After removing myList[2]:\", myList) "
   ]
  },
  {
   "cell_type": "code",
   "execution_count": 18,
   "id": "dafa3f23",
   "metadata": {},
   "outputs": [
    {
     "ename": "IndexError",
     "evalue": "list index out of range",
     "output_type": "error",
     "traceback": [
      "\u001b[1;31m---------------------------------------------------------------------------\u001b[0m",
      "\u001b[1;31mIndexError\u001b[0m                                Traceback (most recent call last)",
      "Cell \u001b[1;32mIn[18], line 2\u001b[0m\n\u001b[0;32m      1\u001b[0m \u001b[38;5;66;03m#Here's a common erre, there are four elements, so print the fourth one\u001b[39;00m\n\u001b[1;32m----> 2\u001b[0m \u001b[38;5;28mprint\u001b[39m(myList[\u001b[38;5;241m4\u001b[39m])\n",
      "\u001b[1;31mIndexError\u001b[0m: list index out of range"
     ]
    }
   ],
   "source": [
    "#Here's a common erre, there are four elements, so print the fourth one\n",
    "print(myList[4])\n",
    "#Oh no! Disaster! There is no index 4 element, since we are 0-indexing"
   ]
  },
  {
   "cell_type": "code",
   "execution_count": 22,
   "id": "5cf739cb",
   "metadata": {},
   "outputs": [
    {
     "name": "stdout",
     "output_type": "stream",
     "text": [
      "Here is the dictionary: {'apple': 'fruit', 'celery': 'vegetable'}\n",
      "This is the output of apple: fruit\n",
      "The new output of apple: sour\n"
     ]
    }
   ],
   "source": [
    "#Dictionaries are a more flexible version of losy\n",
    "myDict = {\"apple\":\"fruit\", \"celery\":\"vegetable\"}\n",
    "#Formatting: {index:element, index:element, ...}\n",
    "\n",
    "print(\"Here is the dictionary:\", myDict)\n",
    "print(\"This is the output of apple:\", myDict[\"apple\"])\n",
    "\n",
    "myDict[\"apple\"] = \"sour\" #Overwrite dictionary similar to List\n",
    "print(\"The new output of apple:\", myDict[\"apple\"])"
   ]
  },
  {
   "cell_type": "code",
   "execution_count": 32,
   "id": "7acff11e",
   "metadata": {},
   "outputs": [],
   "source": [
    "#Some motivation for why I spent so much time writing these boxes\n",
    "#First we need to import all of the lobraries we would use for the project\n",
    "import pandas as pd\n",
    "import seaborn as sns\n",
    "import matplotlib.pyplot as plt"
   ]
  },
  {
   "cell_type": "code",
   "execution_count": 35,
   "id": "521408b9",
   "metadata": {},
   "outputs": [
    {
     "data": {
      "text/html": [
       "<div>\n",
       "<style scoped>\n",
       "    .dataframe tbody tr th:only-of-type {\n",
       "        vertical-align: middle;\n",
       "    }\n",
       "\n",
       "    .dataframe tbody tr th {\n",
       "        vertical-align: top;\n",
       "    }\n",
       "\n",
       "    .dataframe thead th {\n",
       "        text-align: right;\n",
       "    }\n",
       "</style>\n",
       "<table border=\"1\" class=\"dataframe\">\n",
       "  <thead>\n",
       "    <tr style=\"text-align: right;\">\n",
       "      <th></th>\n",
       "      <th>survived</th>\n",
       "      <th>pclass</th>\n",
       "      <th>sex</th>\n",
       "      <th>age</th>\n",
       "      <th>sibsp</th>\n",
       "      <th>parch</th>\n",
       "      <th>fare</th>\n",
       "      <th>embarked</th>\n",
       "      <th>class</th>\n",
       "      <th>who</th>\n",
       "      <th>adult_male</th>\n",
       "      <th>deck</th>\n",
       "      <th>embark_town</th>\n",
       "      <th>alive</th>\n",
       "      <th>alone</th>\n",
       "    </tr>\n",
       "  </thead>\n",
       "  <tbody>\n",
       "    <tr>\n",
       "      <th>0</th>\n",
       "      <td>0</td>\n",
       "      <td>3</td>\n",
       "      <td>male</td>\n",
       "      <td>22.0</td>\n",
       "      <td>1</td>\n",
       "      <td>0</td>\n",
       "      <td>7.2500</td>\n",
       "      <td>S</td>\n",
       "      <td>Third</td>\n",
       "      <td>man</td>\n",
       "      <td>True</td>\n",
       "      <td>NaN</td>\n",
       "      <td>Southampton</td>\n",
       "      <td>no</td>\n",
       "      <td>False</td>\n",
       "    </tr>\n",
       "    <tr>\n",
       "      <th>1</th>\n",
       "      <td>1</td>\n",
       "      <td>1</td>\n",
       "      <td>female</td>\n",
       "      <td>38.0</td>\n",
       "      <td>1</td>\n",
       "      <td>0</td>\n",
       "      <td>71.2833</td>\n",
       "      <td>C</td>\n",
       "      <td>First</td>\n",
       "      <td>woman</td>\n",
       "      <td>False</td>\n",
       "      <td>C</td>\n",
       "      <td>Cherbourg</td>\n",
       "      <td>yes</td>\n",
       "      <td>False</td>\n",
       "    </tr>\n",
       "    <tr>\n",
       "      <th>2</th>\n",
       "      <td>1</td>\n",
       "      <td>3</td>\n",
       "      <td>female</td>\n",
       "      <td>26.0</td>\n",
       "      <td>0</td>\n",
       "      <td>0</td>\n",
       "      <td>7.9250</td>\n",
       "      <td>S</td>\n",
       "      <td>Third</td>\n",
       "      <td>woman</td>\n",
       "      <td>False</td>\n",
       "      <td>NaN</td>\n",
       "      <td>Southampton</td>\n",
       "      <td>yes</td>\n",
       "      <td>True</td>\n",
       "    </tr>\n",
       "    <tr>\n",
       "      <th>3</th>\n",
       "      <td>1</td>\n",
       "      <td>1</td>\n",
       "      <td>female</td>\n",
       "      <td>35.0</td>\n",
       "      <td>1</td>\n",
       "      <td>0</td>\n",
       "      <td>53.1000</td>\n",
       "      <td>S</td>\n",
       "      <td>First</td>\n",
       "      <td>woman</td>\n",
       "      <td>False</td>\n",
       "      <td>C</td>\n",
       "      <td>Southampton</td>\n",
       "      <td>yes</td>\n",
       "      <td>False</td>\n",
       "    </tr>\n",
       "    <tr>\n",
       "      <th>4</th>\n",
       "      <td>0</td>\n",
       "      <td>3</td>\n",
       "      <td>male</td>\n",
       "      <td>35.0</td>\n",
       "      <td>0</td>\n",
       "      <td>0</td>\n",
       "      <td>8.0500</td>\n",
       "      <td>S</td>\n",
       "      <td>Third</td>\n",
       "      <td>man</td>\n",
       "      <td>True</td>\n",
       "      <td>NaN</td>\n",
       "      <td>Southampton</td>\n",
       "      <td>no</td>\n",
       "      <td>True</td>\n",
       "    </tr>\n",
       "  </tbody>\n",
       "</table>\n",
       "</div>"
      ],
      "text/plain": [
       "   survived  pclass     sex   age  sibsp  parch     fare embarked  class  \\\n",
       "0         0       3    male  22.0      1      0   7.2500        S  Third   \n",
       "1         1       1  female  38.0      1      0  71.2833        C  First   \n",
       "2         1       3  female  26.0      0      0   7.9250        S  Third   \n",
       "3         1       1  female  35.0      1      0  53.1000        S  First   \n",
       "4         0       3    male  35.0      0      0   8.0500        S  Third   \n",
       "\n",
       "     who  adult_male deck  embark_town alive  alone  \n",
       "0    man        True  NaN  Southampton    no  False  \n",
       "1  woman       False    C    Cherbourg   yes  False  \n",
       "2  woman       False  NaN  Southampton   yes   True  \n",
       "3  woman       False    C  Southampton   yes  False  \n",
       "4    man        True  NaN  Southampton    no   True  "
      ]
     },
     "execution_count": 35,
     "metadata": {},
     "output_type": "execute_result"
    }
   ],
   "source": [
    "df = sns.load_dataset(\"titanic\") #This loads a dataset with information about titanic passengers\n",
    "df.head()"
   ]
  },
  {
   "cell_type": "code",
   "execution_count": 37,
   "id": "cbc759e9",
   "metadata": {},
   "outputs": [
    {
     "data": {
      "image/png": "[encoded data removed]",
      "text/plain": [
       "<Figure size 1000x600 with 1 Axes>"
      ]
     },
     "metadata": {},
     "output_type": "display_data"
    }
   ],
   "source": [
    "#We can use data frames to create nice pictures easily\n",
    "#Even though this picture won't be that nice for various reasons\n",
    "#Trust me, we will spend time making them better, but for now\n",
    "\n",
    "plt.figure(figsize=(10,6)) #Create a figure that is currently blank of a certain size\n",
    "sns.histplot(data = df, x = 'age', hue = 'sex')\n",
    "plt.title('Age Distribution by Gender')\n",
    "plt.show()"
   ]
  }
 ],
 "metadata": {
  "kernelspec": {
   "display_name": "Python 3 (ipykernel)",
   "language": "python",
   "name": "python3"
  },
  "language_info": {
   "codemirror_mode": {
    "name": "ipython",
    "version": 3
   },
   "file_extension": ".py",
   "mimetype": "text/x-python",
   "name": "python",
   "nbconvert_exporter": "python",
   "pygments_lexer": "ipython3",
   "version": "3.11.5"
  }
 },
 "nbformat": 4,
 "nbformat_minor": 5
}
