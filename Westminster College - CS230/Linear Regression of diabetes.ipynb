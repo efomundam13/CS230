{
 "cells": [
  {
   "cell_type": "code",
   "execution_count": 1,
   "id": "ae90f901",
   "metadata": {},
   "outputs": [],
   "source": [
    "#import necessary packages\n",
    "\n",
    "import numpy as np #This is used in ML Calculations\n",
    "import pandas as pd #This is used for dataframes\n",
    "import seaborn as sns #This is used for plotting\n",
    "import matplotlib.pyplot as plt #This will help support plotting functions\n",
    "from sklearn import datasets #Import JUST datasets from sklearn\n",
    "from sklearn.linear_model import LinearRegression #Imports ML Tools for Linear Regression\n",
    "\n",
    "#Import mean_squared_error and r^2 calculators from sklearn\n",
    "from sklearn.metrics import mean_squared_error, r2_score\n",
    "\n",
    "#Import func to randomly select a training/testing split of our data\n",
    "from sklearn.model_selection import train_test_split"
   ]
  },
  {
   "cell_type": "code",
   "execution_count": 2,
   "id": "c79fe164",
   "metadata": {},
   "outputs": [
    {
     "data": {
      "text/plain": [
       "array([151.,  75., 141., 206., 135.,  97., 138.,  63., 110., 310., 101.,\n",
       "        69., 179., 185., 118., 171., 166., 144.,  97., 168.,  68.,  49.,\n",
       "        68., 245., 184., 202., 137.,  85., 131., 283., 129.,  59., 341.,\n",
       "        87.,  65., 102., 265., 276., 252.,  90., 100.,  55.,  61.,  92.,\n",
       "       259.,  53., 190., 142.,  75., 142., 155., 225.,  59., 104., 182.,\n",
       "       128.,  52.,  37., 170., 170.,  61., 144.,  52., 128.,  71., 163.,\n",
       "       150.,  97., 160., 178.,  48., 270., 202., 111.,  85.,  42., 170.,\n",
       "       200., 252., 113., 143.,  51.,  52., 210.,  65., 141.,  55., 134.,\n",
       "        42., 111.,  98., 164.,  48.,  96.,  90., 162., 150., 279.,  92.,\n",
       "        83., 128., 102., 302., 198.,  95.,  53., 134., 144., 232.,  81.,\n",
       "       104.,  59., 246., 297., 258., 229., 275., 281., 179., 200., 200.,\n",
       "       173., 180.,  84., 121., 161.,  99., 109., 115., 268., 274., 158.,\n",
       "       107.,  83., 103., 272.,  85., 280., 336., 281., 118., 317., 235.,\n",
       "        60., 174., 259., 178., 128.,  96., 126., 288.,  88., 292.,  71.,\n",
       "       197., 186.,  25.,  84.,  96., 195.,  53., 217., 172., 131., 214.,\n",
       "        59.,  70., 220., 268., 152.,  47.,  74., 295., 101., 151., 127.,\n",
       "       237., 225.,  81., 151., 107.,  64., 138., 185., 265., 101., 137.,\n",
       "       143., 141.,  79., 292., 178.,  91., 116.,  86., 122.,  72., 129.,\n",
       "       142.,  90., 158.,  39., 196., 222., 277.,  99., 196., 202., 155.,\n",
       "        77., 191.,  70.,  73.,  49.,  65., 263., 248., 296., 214., 185.,\n",
       "        78.,  93., 252., 150.,  77., 208.,  77., 108., 160.,  53., 220.,\n",
       "       154., 259.,  90., 246., 124.,  67.,  72., 257., 262., 275., 177.,\n",
       "        71.,  47., 187., 125.,  78.,  51., 258., 215., 303., 243.,  91.,\n",
       "       150., 310., 153., 346.,  63.,  89.,  50.,  39., 103., 308., 116.,\n",
       "       145.,  74.,  45., 115., 264.,  87., 202., 127., 182., 241.,  66.,\n",
       "        94., 283.,  64., 102., 200., 265.,  94., 230., 181., 156., 233.,\n",
       "        60., 219.,  80.,  68., 332., 248.,  84., 200.,  55.,  85.,  89.,\n",
       "        31., 129.,  83., 275.,  65., 198., 236., 253., 124.,  44., 172.,\n",
       "       114., 142., 109., 180., 144., 163., 147.,  97., 220., 190., 109.,\n",
       "       191., 122., 230., 242., 248., 249., 192., 131., 237.,  78., 135.,\n",
       "       244., 199., 270., 164.,  72.,  96., 306.,  91., 214.,  95., 216.,\n",
       "       263., 178., 113., 200., 139., 139.,  88., 148.,  88., 243.,  71.,\n",
       "        77., 109., 272.,  60.,  54., 221.,  90., 311., 281., 182., 321.,\n",
       "        58., 262., 206., 233., 242., 123., 167.,  63., 197.,  71., 168.,\n",
       "       140., 217., 121., 235., 245.,  40.,  52., 104., 132.,  88.,  69.,\n",
       "       219.,  72., 201., 110.,  51., 277.,  63., 118.,  69., 273., 258.,\n",
       "        43., 198., 242., 232., 175.,  93., 168., 275., 293., 281.,  72.,\n",
       "       140., 189., 181., 209., 136., 261., 113., 131., 174., 257.,  55.,\n",
       "        84.,  42., 146., 212., 233.,  91., 111., 152., 120.,  67., 310.,\n",
       "        94., 183.,  66., 173.,  72.,  49.,  64.,  48., 178., 104., 132.,\n",
       "       220.,  57.])"
      ]
     },
     "execution_count": 2,
     "metadata": {},
     "output_type": "execute_result"
    }
   ],
   "source": [
    "#We will import the diabetes dataset in two parts: ...\n",
    "#... When using an sklearn dataset, two arrays are returned: --\n",
    "#-- The first is the data used for prediction, and the second are \"Correct Answers\" --\n",
    "#-- otherwise referred to as 'targets'. (These are what we want to predict)\n",
    "\n",
    "#To format sklearn dataset imports, need 'data, target = datasets.load_(dataset here)'\n",
    "#As a parameter, we will use (return_X_y = True) to separate the data from targets\n",
    "\n",
    "diabetesData, diabetesTarget = datasets.load_diabetes(return_X_y = True)\n",
    "diabetesTarget"
   ]
  },
  {
   "cell_type": "code",
   "execution_count": 3,
   "id": "6905af48",
   "metadata": {},
   "outputs": [
    {
     "data": {
      "text/plain": [
       "array([[ 0.03807591,  0.05068012,  0.06169621, ..., -0.00259226,\n",
       "         0.01990749, -0.01764613],\n",
       "       [-0.00188202, -0.04464164, -0.05147406, ..., -0.03949338,\n",
       "        -0.06833155, -0.09220405],\n",
       "       [ 0.08529891,  0.05068012,  0.04445121, ..., -0.00259226,\n",
       "         0.00286131, -0.02593034],\n",
       "       ...,\n",
       "       [ 0.04170844,  0.05068012, -0.01590626, ..., -0.01107952,\n",
       "        -0.04688253,  0.01549073],\n",
       "       [-0.04547248, -0.04464164,  0.03906215, ...,  0.02655962,\n",
       "         0.04452873, -0.02593034],\n",
       "       [-0.04547248, -0.04464164, -0.0730303 , ..., -0.03949338,\n",
       "        -0.00422151,  0.00306441]])"
      ]
     },
     "execution_count": 3,
     "metadata": {},
     "output_type": "execute_result"
    }
   ],
   "source": [
    "diabetesData"
   ]
  },
  {
   "cell_type": "code",
   "execution_count": 4,
   "id": "d551cd68",
   "metadata": {},
   "outputs": [
    {
     "data": {
      "text/plain": [
       "array([[ 0.06169621],\n",
       "       [-0.05147406],\n",
       "       [ 0.04445121],\n",
       "       [-0.01159501],\n",
       "       [-0.03638469],\n",
       "       [-0.04069594],\n",
       "       [-0.04716281],\n",
       "       [-0.00189471],\n",
       "       [ 0.06169621],\n",
       "       [ 0.03906215],\n",
       "       [-0.08380842],\n",
       "       [ 0.01750591],\n",
       "       [-0.02884001],\n",
       "       [-0.00189471],\n",
       "       [-0.02560657],\n",
       "       [-0.01806189],\n",
       "       [ 0.04229559],\n",
       "       [ 0.01211685],\n",
       "       [-0.0105172 ],\n",
       "       [-0.01806189],\n",
       "       [-0.05686312],\n",
       "       [-0.02237314],\n",
       "       [-0.00405033],\n",
       "       [ 0.06061839],\n",
       "       [ 0.03582872],\n",
       "       [-0.01267283],\n",
       "       [-0.07734155],\n",
       "       [ 0.05954058],\n",
       "       [-0.02129532],\n",
       "       [-0.00620595],\n",
       "       [ 0.04445121],\n",
       "       [-0.06548562],\n",
       "       [ 0.12528712],\n",
       "       [-0.05039625],\n",
       "       [-0.06332999],\n",
       "       [-0.03099563],\n",
       "       [ 0.02289497],\n",
       "       [ 0.01103904],\n",
       "       [ 0.07139652],\n",
       "       [ 0.01427248],\n",
       "       [-0.00836158],\n",
       "       [-0.06764124],\n",
       "       [-0.0105172 ],\n",
       "       [-0.02345095],\n",
       "       [ 0.06816308],\n",
       "       [-0.03530688],\n",
       "       [-0.01159501],\n",
       "       [-0.0730303 ],\n",
       "       [-0.04177375],\n",
       "       [ 0.01427248],\n",
       "       [-0.00728377],\n",
       "       [ 0.0164281 ],\n",
       "       [-0.00943939],\n",
       "       [-0.01590626],\n",
       "       [ 0.0250506 ],\n",
       "       [-0.04931844],\n",
       "       [ 0.04121778],\n",
       "       [-0.06332999],\n",
       "       [-0.06440781],\n",
       "       [-0.02560657],\n",
       "       [-0.00405033],\n",
       "       [ 0.00457217],\n",
       "       [-0.00728377],\n",
       "       [-0.0374625 ],\n",
       "       [-0.02560657],\n",
       "       [-0.02452876],\n",
       "       [-0.01806189],\n",
       "       [-0.01482845],\n",
       "       [-0.02991782],\n",
       "       [-0.046085  ],\n",
       "       [-0.06979687],\n",
       "       [ 0.03367309],\n",
       "       [-0.00405033],\n",
       "       [-0.02021751],\n",
       "       [ 0.00241654],\n",
       "       [-0.03099563],\n",
       "       [ 0.02828403],\n",
       "       [-0.03638469],\n",
       "       [-0.05794093],\n",
       "       [-0.0374625 ],\n",
       "       [ 0.01211685],\n",
       "       [-0.02237314],\n",
       "       [-0.03530688],\n",
       "       [ 0.00996123],\n",
       "       [-0.03961813],\n",
       "       [ 0.07139652],\n",
       "       [-0.07518593],\n",
       "       [-0.00620595],\n",
       "       [-0.04069594],\n",
       "       [-0.04824063],\n",
       "       [-0.02560657],\n",
       "       [ 0.0519959 ],\n",
       "       [ 0.00457217],\n",
       "       [-0.06440781],\n",
       "       [-0.01698407],\n",
       "       [-0.05794093],\n",
       "       [ 0.00996123],\n",
       "       [ 0.08864151],\n",
       "       [-0.00512814],\n",
       "       [-0.06440781],\n",
       "       [ 0.01750591],\n",
       "       [-0.04500719],\n",
       "       [ 0.02828403],\n",
       "       [ 0.04121778],\n",
       "       [ 0.06492964],\n",
       "       [-0.03207344],\n",
       "       [-0.07626374],\n",
       "       [ 0.04984027],\n",
       "       [ 0.04552903],\n",
       "       [-0.00943939],\n",
       "       [-0.03207344],\n",
       "       [ 0.00457217],\n",
       "       [ 0.02073935],\n",
       "       [ 0.01427248],\n",
       "       [ 0.11019775],\n",
       "       [ 0.00133873],\n",
       "       [ 0.05846277],\n",
       "       [-0.02129532],\n",
       "       [-0.0105172 ],\n",
       "       [-0.04716281],\n",
       "       [ 0.00457217],\n",
       "       [ 0.01750591],\n",
       "       [ 0.08109682],\n",
       "       [ 0.0347509 ],\n",
       "       [ 0.02397278],\n",
       "       [-0.00836158],\n",
       "       [-0.06117437],\n",
       "       [-0.00189471],\n",
       "       [-0.06225218],\n",
       "       [ 0.0164281 ],\n",
       "       [ 0.09618619],\n",
       "       [-0.06979687],\n",
       "       [-0.02129532],\n",
       "       [-0.05362969],\n",
       "       [ 0.0433734 ],\n",
       "       [ 0.05630715],\n",
       "       [-0.0816528 ],\n",
       "       [ 0.04984027],\n",
       "       [ 0.11127556],\n",
       "       [ 0.06169621],\n",
       "       [ 0.01427248],\n",
       "       [ 0.04768465],\n",
       "       [ 0.01211685],\n",
       "       [ 0.00564998],\n",
       "       [ 0.04660684],\n",
       "       [ 0.12852056],\n",
       "       [ 0.05954058],\n",
       "       [ 0.09295276],\n",
       "       [ 0.01535029],\n",
       "       [-0.00512814],\n",
       "       [ 0.0703187 ],\n",
       "       [-0.00405033],\n",
       "       [-0.00081689],\n",
       "       [-0.04392938],\n",
       "       [ 0.02073935],\n",
       "       [ 0.06061839],\n",
       "       [-0.0105172 ],\n",
       "       [-0.03315126],\n",
       "       [-0.06548562],\n",
       "       [ 0.0433734 ],\n",
       "       [-0.06225218],\n",
       "       [ 0.06385183],\n",
       "       [ 0.03043966],\n",
       "       [ 0.07247433],\n",
       "       [-0.0191397 ],\n",
       "       [-0.06656343],\n",
       "       [-0.06009656],\n",
       "       [ 0.06924089],\n",
       "       [ 0.05954058],\n",
       "       [-0.02668438],\n",
       "       [-0.02021751],\n",
       "       [-0.046085  ],\n",
       "       [ 0.07139652],\n",
       "       [-0.07949718],\n",
       "       [ 0.00996123],\n",
       "       [-0.03854032],\n",
       "       [ 0.01966154],\n",
       "       [ 0.02720622],\n",
       "       [-0.00836158],\n",
       "       [-0.01590626],\n",
       "       [ 0.00457217],\n",
       "       [-0.04285156],\n",
       "       [ 0.00564998],\n",
       "       [-0.03530688],\n",
       "       [ 0.02397278],\n",
       "       [-0.01806189],\n",
       "       [ 0.04229559],\n",
       "       [-0.0547075 ],\n",
       "       [-0.00297252],\n",
       "       [-0.06656343],\n",
       "       [-0.01267283],\n",
       "       [-0.04177375],\n",
       "       [-0.03099563],\n",
       "       [-0.00512814],\n",
       "       [-0.05901875],\n",
       "       [ 0.0250506 ],\n",
       "       [-0.046085  ],\n",
       "       [ 0.00349435],\n",
       "       [ 0.05415152],\n",
       "       [-0.04500719],\n",
       "       [-0.05794093],\n",
       "       [-0.05578531],\n",
       "       [ 0.00133873],\n",
       "       [ 0.03043966],\n",
       "       [ 0.00672779],\n",
       "       [ 0.04660684],\n",
       "       [ 0.02612841],\n",
       "       [ 0.04552903],\n",
       "       [ 0.04013997],\n",
       "       [-0.01806189],\n",
       "       [ 0.01427248],\n",
       "       [ 0.03690653],\n",
       "       [ 0.00349435],\n",
       "       [-0.07087468],\n",
       "       [-0.03315126],\n",
       "       [ 0.09403057],\n",
       "       [ 0.03582872],\n",
       "       [ 0.03151747],\n",
       "       [-0.06548562],\n",
       "       [-0.04177375],\n",
       "       [-0.03961813],\n",
       "       [-0.03854032],\n",
       "       [-0.02560657],\n",
       "       [-0.02345095],\n",
       "       [-0.06656343],\n",
       "       [ 0.03259528],\n",
       "       [-0.046085  ],\n",
       "       [-0.02991782],\n",
       "       [-0.01267283],\n",
       "       [-0.01590626],\n",
       "       [ 0.07139652],\n",
       "       [-0.03099563],\n",
       "       [ 0.00026092],\n",
       "       [ 0.03690653],\n",
       "       [ 0.03906215],\n",
       "       [-0.01482845],\n",
       "       [ 0.00672779],\n",
       "       [-0.06871905],\n",
       "       [-0.00943939],\n",
       "       [ 0.01966154],\n",
       "       [ 0.07462995],\n",
       "       [-0.00836158],\n",
       "       [-0.02345095],\n",
       "       [-0.046085  ],\n",
       "       [ 0.05415152],\n",
       "       [-0.03530688],\n",
       "       [-0.03207344],\n",
       "       [-0.0816528 ],\n",
       "       [ 0.04768465],\n",
       "       [ 0.06061839],\n",
       "       [ 0.05630715],\n",
       "       [ 0.09834182],\n",
       "       [ 0.05954058],\n",
       "       [ 0.03367309],\n",
       "       [ 0.05630715],\n",
       "       [-0.06548562],\n",
       "       [ 0.16085492],\n",
       "       [-0.05578531],\n",
       "       [-0.02452876],\n",
       "       [-0.03638469],\n",
       "       [-0.00836158],\n",
       "       [-0.04177375],\n",
       "       [ 0.12744274],\n",
       "       [-0.07734155],\n",
       "       [ 0.02828403],\n",
       "       [-0.02560657],\n",
       "       [-0.06225218],\n",
       "       [-0.00081689],\n",
       "       [ 0.08864151],\n",
       "       [-0.03207344],\n",
       "       [ 0.03043966],\n",
       "       [ 0.00888341],\n",
       "       [ 0.00672779],\n",
       "       [-0.02021751],\n",
       "       [-0.02452876],\n",
       "       [-0.01159501],\n",
       "       [ 0.02612841],\n",
       "       [-0.05901875],\n",
       "       [-0.03638469],\n",
       "       [-0.02452876],\n",
       "       [ 0.01858372],\n",
       "       [-0.0902753 ],\n",
       "       [-0.00512814],\n",
       "       [-0.05255187],\n",
       "       [-0.02237314],\n",
       "       [-0.02021751],\n",
       "       [-0.0547075 ],\n",
       "       [-0.00620595],\n",
       "       [-0.01698407],\n",
       "       [ 0.05522933],\n",
       "       [ 0.07678558],\n",
       "       [ 0.01858372],\n",
       "       [-0.02237314],\n",
       "       [ 0.09295276],\n",
       "       [-0.03099563],\n",
       "       [ 0.03906215],\n",
       "       [-0.06117437],\n",
       "       [-0.00836158],\n",
       "       [-0.0374625 ],\n",
       "       [-0.01375064],\n",
       "       [ 0.07355214],\n",
       "       [-0.02452876],\n",
       "       [ 0.03367309],\n",
       "       [ 0.0347509 ],\n",
       "       [-0.03854032],\n",
       "       [-0.03961813],\n",
       "       [-0.00189471],\n",
       "       [-0.03099563],\n",
       "       [-0.046085  ],\n",
       "       [ 0.00133873],\n",
       "       [ 0.06492964],\n",
       "       [ 0.04013997],\n",
       "       [-0.02345095],\n",
       "       [ 0.05307371],\n",
       "       [ 0.04013997],\n",
       "       [-0.02021751],\n",
       "       [ 0.01427248],\n",
       "       [-0.03422907],\n",
       "       [ 0.00672779],\n",
       "       [ 0.00457217],\n",
       "       [ 0.03043966],\n",
       "       [ 0.0519959 ],\n",
       "       [ 0.06169621],\n",
       "       [-0.00728377],\n",
       "       [ 0.00564998],\n",
       "       [ 0.05415152],\n",
       "       [-0.00836158],\n",
       "       [ 0.114509  ],\n",
       "       [ 0.06708527],\n",
       "       [-0.05578531],\n",
       "       [ 0.03043966],\n",
       "       [-0.02560657],\n",
       "       [ 0.10480869],\n",
       "       [-0.00620595],\n",
       "       [-0.04716281],\n",
       "       [-0.04824063],\n",
       "       [ 0.08540807],\n",
       "       [-0.01267283],\n",
       "       [-0.03315126],\n",
       "       [-0.00728377],\n",
       "       [-0.01375064],\n",
       "       [ 0.05954058],\n",
       "       [ 0.02181716],\n",
       "       [ 0.01858372],\n",
       "       [-0.01159501],\n",
       "       [-0.00297252],\n",
       "       [ 0.01750591],\n",
       "       [-0.02991782],\n",
       "       [-0.02021751],\n",
       "       [-0.05794093],\n",
       "       [ 0.06061839],\n",
       "       [-0.04069594],\n",
       "       [-0.07195249],\n",
       "       [-0.05578531],\n",
       "       [ 0.04552903],\n",
       "       [-0.00943939],\n",
       "       [-0.03315126],\n",
       "       [ 0.04984027],\n",
       "       [-0.08488624],\n",
       "       [ 0.00564998],\n",
       "       [ 0.02073935],\n",
       "       [-0.00728377],\n",
       "       [ 0.10480869],\n",
       "       [-0.02452876],\n",
       "       [-0.00620595],\n",
       "       [-0.03854032],\n",
       "       [ 0.13714305],\n",
       "       [ 0.17055523],\n",
       "       [ 0.00241654],\n",
       "       [ 0.03798434],\n",
       "       [-0.05794093],\n",
       "       [-0.00943939],\n",
       "       [-0.02345095],\n",
       "       [-0.0105172 ],\n",
       "       [-0.03422907],\n",
       "       [-0.00297252],\n",
       "       [ 0.06816308],\n",
       "       [ 0.00996123],\n",
       "       [ 0.00241654],\n",
       "       [-0.03854032],\n",
       "       [ 0.02612841],\n",
       "       [-0.08919748],\n",
       "       [ 0.06061839],\n",
       "       [-0.02884001],\n",
       "       [-0.02991782],\n",
       "       [-0.0191397 ],\n",
       "       [-0.04069594],\n",
       "       [ 0.01535029],\n",
       "       [-0.02452876],\n",
       "       [ 0.00133873],\n",
       "       [ 0.06924089],\n",
       "       [-0.06979687],\n",
       "       [-0.02991782],\n",
       "       [-0.046085  ],\n",
       "       [ 0.01858372],\n",
       "       [ 0.00133873],\n",
       "       [-0.03099563],\n",
       "       [-0.00405033],\n",
       "       [ 0.01535029],\n",
       "       [ 0.02289497],\n",
       "       [ 0.04552903],\n",
       "       [-0.04500719],\n",
       "       [-0.03315126],\n",
       "       [ 0.097264  ],\n",
       "       [ 0.05415152],\n",
       "       [ 0.12313149],\n",
       "       [-0.08057499],\n",
       "       [ 0.09295276],\n",
       "       [-0.05039625],\n",
       "       [-0.01159501],\n",
       "       [-0.0277622 ],\n",
       "       [ 0.05846277],\n",
       "       [ 0.08540807],\n",
       "       [-0.00081689],\n",
       "       [ 0.00672779],\n",
       "       [ 0.00888341],\n",
       "       [ 0.08001901],\n",
       "       [ 0.07139652],\n",
       "       [-0.02452876],\n",
       "       [-0.0547075 ],\n",
       "       [-0.03638469],\n",
       "       [ 0.0164281 ],\n",
       "       [ 0.07786339],\n",
       "       [-0.03961813],\n",
       "       [ 0.01103904],\n",
       "       [-0.04069594],\n",
       "       [-0.03422907],\n",
       "       [ 0.00564998],\n",
       "       [ 0.08864151],\n",
       "       [-0.03315126],\n",
       "       [-0.05686312],\n",
       "       [-0.03099563],\n",
       "       [ 0.05522933],\n",
       "       [-0.06009656],\n",
       "       [ 0.00133873],\n",
       "       [-0.02345095],\n",
       "       [-0.07410811],\n",
       "       [ 0.01966154],\n",
       "       [-0.01590626],\n",
       "       [-0.01590626],\n",
       "       [ 0.03906215],\n",
       "       [-0.0730303 ]])"
      ]
     },
     "execution_count": 4,
     "metadata": {},
     "output_type": "execute_result"
    }
   ],
   "source": [
    "#Step 1 of outline for using sklearn --> Prepare data for sklearn and linear regression\n",
    "\n",
    "#Since linear regression only uses one feature for prediction, we need to pick a feature and separate it ...\n",
    "#... from the rest of the data for ease of use\n",
    "\n",
    "#I chose feature 2, but there's nothing special about it aside from the fact that it is numerical\n",
    "diabetesX = diabetesData[:, np.newaxis, 2] #np.newaxis makes each obs its own array\n",
    "diabetesXPlot = diabetesData[:, 2] #pulls out the column labeled 2 from 'somewhere (need this info)'\n",
    "diabetesX"
   ]
  },
  {
   "cell_type": "code",
   "execution_count": 5,
   "id": "f9e347c8",
   "metadata": {},
   "outputs": [
    {
     "data": {
      "text/plain": [
       "array([ 0.06169621, -0.05147406,  0.04445121, -0.01159501, -0.03638469,\n",
       "       -0.04069594, -0.04716281, -0.00189471,  0.06169621,  0.03906215,\n",
       "       -0.08380842,  0.01750591, -0.02884001, -0.00189471, -0.02560657,\n",
       "       -0.01806189,  0.04229559,  0.01211685, -0.0105172 , -0.01806189,\n",
       "       -0.05686312, -0.02237314, -0.00405033,  0.06061839,  0.03582872,\n",
       "       -0.01267283, -0.07734155,  0.05954058, -0.02129532, -0.00620595,\n",
       "        0.04445121, -0.06548562,  0.12528712, -0.05039625, -0.06332999,\n",
       "       -0.03099563,  0.02289497,  0.01103904,  0.07139652,  0.01427248,\n",
       "       -0.00836158, -0.06764124, -0.0105172 , -0.02345095,  0.06816308,\n",
       "       -0.03530688, -0.01159501, -0.0730303 , -0.04177375,  0.01427248,\n",
       "       -0.00728377,  0.0164281 , -0.00943939, -0.01590626,  0.0250506 ,\n",
       "       -0.04931844,  0.04121778, -0.06332999, -0.06440781, -0.02560657,\n",
       "       -0.00405033,  0.00457217, -0.00728377, -0.0374625 , -0.02560657,\n",
       "       -0.02452876, -0.01806189, -0.01482845, -0.02991782, -0.046085  ,\n",
       "       -0.06979687,  0.03367309, -0.00405033, -0.02021751,  0.00241654,\n",
       "       -0.03099563,  0.02828403, -0.03638469, -0.05794093, -0.0374625 ,\n",
       "        0.01211685, -0.02237314, -0.03530688,  0.00996123, -0.03961813,\n",
       "        0.07139652, -0.07518593, -0.00620595, -0.04069594, -0.04824063,\n",
       "       -0.02560657,  0.0519959 ,  0.00457217, -0.06440781, -0.01698407,\n",
       "       -0.05794093,  0.00996123,  0.08864151, -0.00512814, -0.06440781,\n",
       "        0.01750591, -0.04500719,  0.02828403,  0.04121778,  0.06492964,\n",
       "       -0.03207344, -0.07626374,  0.04984027,  0.04552903, -0.00943939,\n",
       "       -0.03207344,  0.00457217,  0.02073935,  0.01427248,  0.11019775,\n",
       "        0.00133873,  0.05846277, -0.02129532, -0.0105172 , -0.04716281,\n",
       "        0.00457217,  0.01750591,  0.08109682,  0.0347509 ,  0.02397278,\n",
       "       -0.00836158, -0.06117437, -0.00189471, -0.06225218,  0.0164281 ,\n",
       "        0.09618619, -0.06979687, -0.02129532, -0.05362969,  0.0433734 ,\n",
       "        0.05630715, -0.0816528 ,  0.04984027,  0.11127556,  0.06169621,\n",
       "        0.01427248,  0.04768465,  0.01211685,  0.00564998,  0.04660684,\n",
       "        0.12852056,  0.05954058,  0.09295276,  0.01535029, -0.00512814,\n",
       "        0.0703187 , -0.00405033, -0.00081689, -0.04392938,  0.02073935,\n",
       "        0.06061839, -0.0105172 , -0.03315126, -0.06548562,  0.0433734 ,\n",
       "       -0.06225218,  0.06385183,  0.03043966,  0.07247433, -0.0191397 ,\n",
       "       -0.06656343, -0.06009656,  0.06924089,  0.05954058, -0.02668438,\n",
       "       -0.02021751, -0.046085  ,  0.07139652, -0.07949718,  0.00996123,\n",
       "       -0.03854032,  0.01966154,  0.02720622, -0.00836158, -0.01590626,\n",
       "        0.00457217, -0.04285156,  0.00564998, -0.03530688,  0.02397278,\n",
       "       -0.01806189,  0.04229559, -0.0547075 , -0.00297252, -0.06656343,\n",
       "       -0.01267283, -0.04177375, -0.03099563, -0.00512814, -0.05901875,\n",
       "        0.0250506 , -0.046085  ,  0.00349435,  0.05415152, -0.04500719,\n",
       "       -0.05794093, -0.05578531,  0.00133873,  0.03043966,  0.00672779,\n",
       "        0.04660684,  0.02612841,  0.04552903,  0.04013997, -0.01806189,\n",
       "        0.01427248,  0.03690653,  0.00349435, -0.07087468, -0.03315126,\n",
       "        0.09403057,  0.03582872,  0.03151747, -0.06548562, -0.04177375,\n",
       "       -0.03961813, -0.03854032, -0.02560657, -0.02345095, -0.06656343,\n",
       "        0.03259528, -0.046085  , -0.02991782, -0.01267283, -0.01590626,\n",
       "        0.07139652, -0.03099563,  0.00026092,  0.03690653,  0.03906215,\n",
       "       -0.01482845,  0.00672779, -0.06871905, -0.00943939,  0.01966154,\n",
       "        0.07462995, -0.00836158, -0.02345095, -0.046085  ,  0.05415152,\n",
       "       -0.03530688, -0.03207344, -0.0816528 ,  0.04768465,  0.06061839,\n",
       "        0.05630715,  0.09834182,  0.05954058,  0.03367309,  0.05630715,\n",
       "       -0.06548562,  0.16085492, -0.05578531, -0.02452876, -0.03638469,\n",
       "       -0.00836158, -0.04177375,  0.12744274, -0.07734155,  0.02828403,\n",
       "       -0.02560657, -0.06225218, -0.00081689,  0.08864151, -0.03207344,\n",
       "        0.03043966,  0.00888341,  0.00672779, -0.02021751, -0.02452876,\n",
       "       -0.01159501,  0.02612841, -0.05901875, -0.03638469, -0.02452876,\n",
       "        0.01858372, -0.0902753 , -0.00512814, -0.05255187, -0.02237314,\n",
       "       -0.02021751, -0.0547075 , -0.00620595, -0.01698407,  0.05522933,\n",
       "        0.07678558,  0.01858372, -0.02237314,  0.09295276, -0.03099563,\n",
       "        0.03906215, -0.06117437, -0.00836158, -0.0374625 , -0.01375064,\n",
       "        0.07355214, -0.02452876,  0.03367309,  0.0347509 , -0.03854032,\n",
       "       -0.03961813, -0.00189471, -0.03099563, -0.046085  ,  0.00133873,\n",
       "        0.06492964,  0.04013997, -0.02345095,  0.05307371,  0.04013997,\n",
       "       -0.02021751,  0.01427248, -0.03422907,  0.00672779,  0.00457217,\n",
       "        0.03043966,  0.0519959 ,  0.06169621, -0.00728377,  0.00564998,\n",
       "        0.05415152, -0.00836158,  0.114509  ,  0.06708527, -0.05578531,\n",
       "        0.03043966, -0.02560657,  0.10480869, -0.00620595, -0.04716281,\n",
       "       -0.04824063,  0.08540807, -0.01267283, -0.03315126, -0.00728377,\n",
       "       -0.01375064,  0.05954058,  0.02181716,  0.01858372, -0.01159501,\n",
       "       -0.00297252,  0.01750591, -0.02991782, -0.02021751, -0.05794093,\n",
       "        0.06061839, -0.04069594, -0.07195249, -0.05578531,  0.04552903,\n",
       "       -0.00943939, -0.03315126,  0.04984027, -0.08488624,  0.00564998,\n",
       "        0.02073935, -0.00728377,  0.10480869, -0.02452876, -0.00620595,\n",
       "       -0.03854032,  0.13714305,  0.17055523,  0.00241654,  0.03798434,\n",
       "       -0.05794093, -0.00943939, -0.02345095, -0.0105172 , -0.03422907,\n",
       "       -0.00297252,  0.06816308,  0.00996123,  0.00241654, -0.03854032,\n",
       "        0.02612841, -0.08919748,  0.06061839, -0.02884001, -0.02991782,\n",
       "       -0.0191397 , -0.04069594,  0.01535029, -0.02452876,  0.00133873,\n",
       "        0.06924089, -0.06979687, -0.02991782, -0.046085  ,  0.01858372,\n",
       "        0.00133873, -0.03099563, -0.00405033,  0.01535029,  0.02289497,\n",
       "        0.04552903, -0.04500719, -0.03315126,  0.097264  ,  0.05415152,\n",
       "        0.12313149, -0.08057499,  0.09295276, -0.05039625, -0.01159501,\n",
       "       -0.0277622 ,  0.05846277,  0.08540807, -0.00081689,  0.00672779,\n",
       "        0.00888341,  0.08001901,  0.07139652, -0.02452876, -0.0547075 ,\n",
       "       -0.03638469,  0.0164281 ,  0.07786339, -0.03961813,  0.01103904,\n",
       "       -0.04069594, -0.03422907,  0.00564998,  0.08864151, -0.03315126,\n",
       "       -0.05686312, -0.03099563,  0.05522933, -0.06009656,  0.00133873,\n",
       "       -0.02345095, -0.07410811,  0.01966154, -0.01590626, -0.01590626,\n",
       "        0.03906215, -0.0730303 ])"
      ]
     },
     "execution_count": 5,
     "metadata": {},
     "output_type": "execute_result"
    }
   ],
   "source": [
    "diabetesXPlot"
   ]
  },
  {
   "cell_type": "code",
   "execution_count": 6,
   "id": "de2b7a12",
   "metadata": {},
   "outputs": [],
   "source": [
    "#Step 2 --> choose the model we'll be using\n",
    "\n",
    "theMethod = LinearRegression() #From sklearn (linear_models) use Linear Regression"
   ]
  },
  {
   "cell_type": "code",
   "execution_count": 7,
   "id": "f93c3211",
   "metadata": {},
   "outputs": [],
   "source": [
    "#Step 3 --> train the model\n",
    "\n",
    "#We have decided the method, let's build the model\n",
    "#To build a model from data, we use the .fit func\n",
    "#.fit takes in two inputs: trainingdata and targetdata\n",
    "# *When we are doing supervised learning at least\n",
    "\n",
    "theModel = theMethod.fit(diabetesX, diabetesTarget)"
   ]
  },
  {
   "cell_type": "code",
   "execution_count": 8,
   "id": "e808d8c5",
   "metadata": {},
   "outputs": [],
   "source": [
    "#Build the collection of predictions for every possible input\n",
    "#Applies our model to the input data. To do so, we use the .predict func\n",
    "\n",
    "diabetesPredictor = theMethod.predict(diabetesX)"
   ]
  },
  {
   "cell_type": "code",
   "execution_count": 9,
   "id": "4e49c247",
   "metadata": {},
   "outputs": [
    {
     "data": {
      "text/plain": [
       "[<matplotlib.lines.Line2D at 0x20552a56910>]"
      ]
     },
     "execution_count": 9,
     "metadata": {},
     "output_type": "execute_result"
    },
    {
     "data": {
      "image/png": "[encoded data removed]",
      "text/plain": [
       "<Figure size 640x480 with 1 Axes>"
      ]
     },
     "metadata": {},
     "output_type": "display_data"
    }
   ],
   "source": [
    "#Step 4 --> visualize the model\n",
    "\n",
    "#Visualize the data so that we can better understand/explain the model that sklearn created\n",
    "#plt calls matplotlib.pyplot, since we're comparing 2 numerical variables\n",
    "#We will make a scatterplot\n",
    "#In order to see the model, we will draw the line the model created\n",
    "\n",
    "plt.scatter(diabetesX, diabetesTarget)\n",
    "plt.plot(diabetesX, diabetesPredictor, color = 'black', linewidth = 3)"
   ]
  },
  {
   "cell_type": "code",
   "execution_count": 10,
   "id": "b53794b7",
   "metadata": {},
   "outputs": [
    {
     "name": "stderr",
     "output_type": "stream",
     "text": [
      "C:\\Users\\chtho\\anaconda3\\Lib\\site-packages\\seaborn\\axisgrid.py:118: UserWarning: The figure layout has changed to tight\n",
      "  self._figure.tight_layout(*args, **kwargs)\n"
     ]
    },
    {
     "data": {
      "text/plain": [
       "[<matplotlib.lines.Line2D at 0x20553256550>]"
      ]
     },
     "execution_count": 10,
     "metadata": {},
     "output_type": "execute_result"
    },
    {
     "data": {
      "image/png": "[encoded data removed]",
      "text/plain": [
       "<Figure size 500x500 with 1 Axes>"
      ]
     },
     "metadata": {},
     "output_type": "display_data"
    }
   ],
   "source": [
    "sns.relplot(x = diabetesXPlot, y = diabetesTarget)\n",
    "\n",
    "#Note that we use plt to modify our sns plots with extra info, such as tossing in the line of best fit from the above graph\n",
    "plt.plot(diabetesX, diabetesPredictor, color = 'black', linewidth = 3)\n",
    "#we use diabetesXPlot since we want an array of floats for seaborn, ...\n",
    "#... while for sklearn/matplotlib.pyplot, we can use diabetesX as it is an array of arrays"
   ]
  },
  {
   "cell_type": "code",
   "execution_count": 11,
   "id": "c7577f94",
   "metadata": {},
   "outputs": [
    {
     "data": {
      "text/plain": [
       "array([250.87475124])"
      ]
     },
     "execution_count": 11,
     "metadata": {},
     "output_type": "execute_result"
    }
   ],
   "source": [
    "theMethod.predict([[0.104]])"
   ]
  },
  {
   "cell_type": "code",
   "execution_count": 13,
   "id": "4f08d362",
   "metadata": {},
   "outputs": [
    {
     "name": "stdout",
     "output_type": "stream",
     "text": [
      "The slope of the line is:  [949.43526038]\n",
      "The y-intercept of the line is:  152.13348416289617\n"
     ]
    }
   ],
   "source": [
    "#print out the info for the model\n",
    "#As a linear model, there are two parameters: the slope and the y-intercept\n",
    "\n",
    "#Linear regression models will report the slope(s) of each input feature when you call 'coef_'\n",
    "print('The slope of the line is: ', theMethod.coef_)\n",
    "#LR models report intercept using 'intercept_'\n",
    "print('The y-intercept of the line is: ', theMethod.intercept_)"
   ]
  },
  {
   "cell_type": "code",
   "execution_count": 15,
   "id": "59f70bb9",
   "metadata": {},
   "outputs": [
    {
     "name": "stdout",
     "output_type": "stream",
     "text": [
      "MSE: 3890.456585461273\n",
      "r^2:  0.3439237602253802\n"
     ]
    }
   ],
   "source": [
    "#To measure accuracy we can use mean squared error (which is what LR minimizes)\n",
    "print('MSE:', mean_squared_error(diabetesTarget, diabetesPredictor))\n",
    "\n",
    "#Or we can report back the r^2 value. This is way more typical\n",
    "#Inputs for r2_score and mean_squared_error are Known Target Values, Predictions\n",
    "print('r^2: ', r2_score(diabetesTarget, diabetesPredictor))\n",
    "#Interpretation of r^2 is roughly the % of variation explained by your predictor variable (X)"
   ]
  },
  {
   "cell_type": "code",
   "execution_count": 20,
   "id": "2097db67",
   "metadata": {},
   "outputs": [
    {
     "name": "stdout",
     "output_type": "stream",
     "text": [
      "X Training:\n",
      "\n",
      "[[ 0.11127556]\n",
      " [-0.02345095]\n",
      " [-0.00405033]]\n"
     ]
    }
   ],
   "source": [
    "#Practice run two of using sklearn\n",
    "#Step 1--> Testing/training split\n",
    "\n",
    "\n",
    "#We use train_test_split to split our data into testing/training sets\n",
    "#Outputs in order are: X training data, X testing data, Y training data, Y testing data (Put left of = sign)\n",
    "#Inputs(AllData, AllTargets) ...\n",
    "#... test_size --> percent(as decimal) of data for testing ...\n",
    "#... shuffle = True --> forces it to randomize the selection so there's an unbiased set of in the training and testing sets ...\n",
    "#... extra input so that others can recreate what you did: --\n",
    "#-- random_state --> fixes the shuffle so that results are reproduceable \n",
    "diabXTrain, diabXTest, diabYTrain, diabYTest = train_test_split(diabetesX, \n",
    "                                                                diabetesTarget, \n",
    "                                                                test_size = 0.2,\n",
    "                                                                random_state = 2626,\n",
    "                                                                shuffle = True)\n",
    "\n",
    "print('X Training:\\n')\n",
    "print(diabXTrain[: 3])"
   ]
  },
  {
   "cell_type": "code",
   "execution_count": 21,
   "id": "7e2006b1",
   "metadata": {},
   "outputs": [],
   "source": [
    "#Step 2 --> choose the model\n",
    "theMethod = LinearRegression()"
   ]
  },
  {
   "cell_type": "code",
   "execution_count": 23,
   "id": "b0142d5f",
   "metadata": {},
   "outputs": [],
   "source": [
    "#Step 3 --> Train the model with .fit\n",
    "theModel = theMethod.fit(diabXTrain, diabYTrain)\n",
    "#Somehow, at this point, the Machine Learning is done. It do be gud. But we should check it ... \n",
    "#... considering there's still some steps left over"
   ]
  },
  {
   "cell_type": "code",
   "execution_count": 26,
   "id": "117f6bd1",
   "metadata": {},
   "outputs": [],
   "source": [
    "#make predictiony shtuff\n",
    "#Using the X training data to make predictions\n",
    "trainPredictions = theMethod.predict(diabXTrain)"
   ]
  },
  {
   "cell_type": "code",
   "execution_count": 28,
   "id": "36a0bc0e",
   "metadata": {},
   "outputs": [
    {
     "data": {
      "text/plain": [
       "[<matplotlib.lines.Line2D at 0x205532ae050>]"
      ]
     },
     "execution_count": 28,
     "metadata": {},
     "output_type": "execute_result"
    },
    {
     "data": {
      "image/png": "[encoded data removed]",
      "text/plain": [
       "<Figure size 640x480 with 1 Axes>"
      ]
     },
     "metadata": {},
     "output_type": "display_data"
    }
   ],
   "source": [
    "#step 4 --> visualize it\n",
    "plt.scatter(diabXTrain, diabYTrain)\n",
    "plt.plot(diabXTrain, trainPredictions, color = 'black', linewidth = 3)"
   ]
  },
  {
   "cell_type": "code",
   "execution_count": 29,
   "id": "91871fd5",
   "metadata": {},
   "outputs": [
    {
     "name": "stdout",
     "output_type": "stream",
     "text": [
      "r^2:  0.33973150514487205\n"
     ]
    }
   ],
   "source": [
    "#check accuracy (Currently just for training data)\n",
    "#Standard to use r^2 for linear regression accuracy\n",
    "\n",
    "print('r^2: ', r2_score(diabYTrain, trainPredictions))\n",
    "#depending on the field, you have different thresholds for what is acceptable for r^2 values"
   ]
  },
  {
   "cell_type": "code",
   "execution_count": 30,
   "id": "ec8f52a4",
   "metadata": {},
   "outputs": [],
   "source": [
    "#Now check accuaracy for testing data\n",
    "#We can use '.predict' to make NEW guesses! This means our testing data can be put into '.predict'\n",
    "\n",
    "testPredictions = theMethod.predict(diabXTest)"
   ]
  },
  {
   "cell_type": "code",
   "execution_count": 31,
   "id": "25a132bd",
   "metadata": {},
   "outputs": [
    {
     "name": "stdout",
     "output_type": "stream",
     "text": [
      "[-22.15717869  -2.62130519  39.09381443 169.64955021  30.5200812 ]\n"
     ]
    }
   ],
   "source": [
    "#For my predictions on testing data, most interested on what the residuals are\n",
    "#These will give the info on HOW the model is missing the mark\n",
    "#residuals = prediction - reality\n",
    "\n",
    "residuals = testPredictions - diabYTest\n",
    "\n",
    "print(residuals[:5])"
   ]
  },
  {
   "cell_type": "code",
   "execution_count": 33,
   "id": "8aa5921b",
   "metadata": {},
   "outputs": [
    {
     "name": "stderr",
     "output_type": "stream",
     "text": [
      "C:\\Users\\chtho\\AppData\\Local\\Temp\\ipykernel_10312\\2177904824.py:3: UserWarning: \n",
      "\n",
      "`distplot` is a deprecated function and will be removed in seaborn v0.14.0.\n",
      "\n",
      "Please adapt your code to use either `displot` (a figure-level function with\n",
      "similar flexibility) or `histplot` (an axes-level function for histograms).\n",
      "\n",
      "For a guide to updating your code to use the new functions, please see\n",
      "https://gist.github.com/mwaskom/de44147ed2974457ad6372750bbe5751\n",
      "\n",
      "  sns.distplot(residuals)\n"
     ]
    },
    {
     "data": {
      "text/plain": [
       "<Axes: ylabel='Density'>"
      ]
     },
     "execution_count": 33,
     "metadata": {},
     "output_type": "execute_result"
    },
    {
     "data": {
      "image/png": "[encoded data removed]",
      "text/plain": [
       "<Figure size 640x480 with 1 Axes>"
      ]
     },
     "metadata": {},
     "output_type": "display_data"
    }
   ],
   "source": [
    "#We are interested in what the distribution of residuals is\n",
    "#This tells us if we have some systematic erros that schoul be understood\n",
    "sns.distplot(residuals)"
   ]
  },
  {
   "cell_type": "code",
   "execution_count": null,
   "id": "a163aa76",
   "metadata": {},
   "outputs": [],
   "source": [
    "#Supervised Learning:\n",
    "#- Supervised learning is a type of machine learning algorithm that learns from **labeled data**¹².\n",
    "#- The machine is trained on a set of labeled data, which means that the input data is paired with the desired output¹.\n",
    "#- The machine then learns to predict the output for new input data¹.\n",
    "#- Supervised learning is often used for tasks such as classification, regression, and object detection¹.\n",
    "#- For example, a labeled dataset of images of Elephant, Camel and Cow would have each image tagged with either “Elephant”, “Camel” or “Cow”¹.\n",
    "#- The machine learns the relationship between inputs (fruit images) and outputs (fruit labels). The trained machine can then make predictions on new, unlabeled data¹.\n",
    "\n",
    "#**Unsupervised Learning**:\n",
    "#- Unsupervised learning uses machine learning algorithms to analyze and cluster **unlabeled data sets**².\n",
    "#- The machine is trained on a set of unlabeled data, which means that the input data is not paired with the desired output¹.\n",
    "#- The machine then learns to find patterns and relationships in the data¹.\n",
    "#- Unsupervised learning is often used for tasks such as clustering, dimensionality reduction, and anomaly detection¹.\n",
    "#- These algorithms discover hidden patterns in data without the need for human intervention².\n",
    "#- For example, K-means clustering algorithms assign similar data points into groups, where the K value represents the size of the grouping and granularity².\n",
    "\n",
    "In summary, the main difference between supervised and unsupervised learning is that supervised learning uses labeled data to predict outputs, while unsupervised learning uses unlabeled data to find patterns¹².\n"
   ]
  }
 ],
 "metadata": {
  "kernelspec": {
   "display_name": "Python 3 (ipykernel)",
   "language": "python",
   "name": "python3"
  },
  "language_info": {
   "codemirror_mode": {
    "name": "ipython",
    "version": 3
   },
   "file_extension": ".py",
   "mimetype": "text/x-python",
   "name": "python",
   "nbconvert_exporter": "python",
   "pygments_lexer": "ipython3",
   "version": "3.11.7"
  }
 },
 "nbformat": 4,
 "nbformat_minor": 5
}
